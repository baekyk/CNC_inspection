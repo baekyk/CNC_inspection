{
 "cells": [
  {
   "cell_type": "code",
   "execution_count": 59,
   "metadata": {},
   "outputs": [],
   "source": [
    "from inspection import *"
   ]
  },
  {
   "cell_type": "code",
   "execution_count": 60,
   "metadata": {},
   "outputs": [],
   "source": [
    "\"\"\"\n",
    "given data\n",
    "\"\"\"\n",
    "TARGET_DXF = 'SAMPLE2.dxf'\n",
    "CENTER_LAYER = 'BK_CENTER'\n",
    "\n",
    "# T_CE = np.array([[1, 0, 0, 0],\n",
    "#                  [0, 1, 0, 0],\n",
    "#                  [0, 0, 1, 0],\n",
    "#                  [0, 0, 0, 1]]) # 설계상 nominal parameters\n",
    "T_CE = np.array([[1, 0, 0, 0],\n",
    "                 [0, 1, 0, -33],\n",
    "                 [0, 0, 1, 50],\n",
    "                 [0, 0, 0, 1]]) # 설계상 nominal parameters\n",
    "H = 70\n",
    "D = 150\n",
    "THETA = np.pi\n",
    "\n",
    "\n",
    "# -- get object position from robot  -- #\n",
    "# T_BO = transl(np.array([800, 0, 0])) \n",
    "# T_BO = transl(np.array([450, 100, 50])) \n",
    "T_BO = transl(np.array([630, 0, 0])) "
   ]
  },
  {
   "cell_type": "code",
   "execution_count": 61,
   "metadata": {},
   "outputs": [],
   "source": [
    "inspt_clss = InspectionClass(TARGET_DXF, T_BO, T_CE, D, THETA, CENTER_LAYER, H, METERS)"
   ]
  },
  {
   "attachments": {},
   "cell_type": "markdown",
   "metadata": {},
   "source": [
    "# Path"
   ]
  },
  {
   "cell_type": "code",
   "execution_count": 62,
   "metadata": {},
   "outputs": [],
   "source": [
    "'''\n",
    "output : 물체가 회전하는 상황에서 모든 높이에 대한 위치로 이동\n",
    "'''\n",
    "all_edges = inspt_clss.inspt_all_edges()\n",
    "list_all_edges = inspt_clss.list_inspt_all_edges()\n",
    "\n",
    "'''\n",
    "output : 물체가 회전하는 상황에서 특정 높이에 대한 위치로 이동\n",
    "'''\n",
    "spec_edge = inspt_clss.inspt_spec_edge()"
   ]
  },
  {
   "cell_type": "code",
   "execution_count": 64,
   "metadata": {},
   "outputs": [
    {
     "data": {
      "text/plain": [
       "array([ 0.47457864,  0.033     ,  0.21142136,  3.14159265, -2.35619449,\n",
       "        3.14159265])"
      ]
     },
     "execution_count": 64,
     "metadata": {},
     "output_type": "execute_result"
    }
   ],
   "source": [
    "tr2pose(spec_edge[1],eulType='RPY')"
   ]
  },
  {
   "attachments": {},
   "cell_type": "markdown",
   "metadata": {},
   "source": [
    "# VREP"
   ]
  },
  {
   "cell_type": "code",
   "execution_count": 6,
   "metadata": {},
   "outputs": [],
   "source": [
    "robot = VREP_MDBOT_INDY7()"
   ]
  },
  {
   "cell_type": "code",
   "execution_count": 7,
   "metadata": {},
   "outputs": [
    {
     "name": "stdout",
     "output_type": "stream",
     "text": [
      "Connected to remote API server\n"
     ]
    },
    {
     "data": {
      "text/plain": [
       "0"
      ]
     },
     "execution_count": 7,
     "metadata": {},
     "output_type": "execute_result"
    }
   ],
   "source": [
    "# Define step size and timeout of simulation\n",
    "step = 0.005  \n",
    "TIMEOUT = 5000\n",
    "host = '127.0.0.1'\n",
    "port = 19999\n",
    "\n",
    "robot.connect(host,port)\n",
    "\n",
    "\n",
    "\n",
    "qb = [0*DEG2RAD, 0.0, -0]\n",
    "# th = np.array([180, 30, 20, 0, 90, 0]) * DEG2RAD\n",
    "th = np.array([0, -40, 20, 00, -90, 0]) * DEG2RAD\n",
    "\n",
    "u = [0, 0] # (FL, FR, BR, BL)\n",
    "\n",
    "robot.setConfig(qb, th, u)"
   ]
  },
  {
   "cell_type": "code",
   "execution_count": 9,
   "metadata": {},
   "outputs": [
    {
     "name": "stdout",
     "output_type": "stream",
     "text": [
      "err converged 0.06054013207724031\n",
      "Done !\n",
      "animation done\n",
      "err converged 0.0404997321244402\n",
      "Done !\n",
      "animation done\n",
      "over t :  1.0000000000000004\n",
      "Done !\n",
      "animation done\n",
      "err converged 0.08547294363637967\n",
      "Done !\n",
      "animation done\n",
      "over t :  1.0000000000000004\n",
      "Done !\n",
      "animation done\n",
      "over t :  1.0000000000000004\n",
      "Done !\n",
      "animation done\n",
      "err converged 0.07709921232928739\n",
      "Done !\n",
      "animation done\n",
      "over t :  1.0000000000000004\n",
      "Done !\n",
      "animation done\n",
      "over t :  1.0000000000000004\n",
      "Done !\n",
      "animation done\n",
      "over t :  1.0000000000000004\n",
      "Done !\n",
      "animation done\n",
      "err converged 0.09838773049574777\n",
      "Done !\n",
      "animation done\n",
      "err converged 0.08741483758376677\n",
      "Done !\n",
      "animation done\n",
      "over t :  1.0000000000000004\n",
      "Done !\n",
      "animation done\n",
      "over t :  1.0000000000000004\n",
      "Done !\n",
      "animation done\n",
      "over t :  1.0000000000000004\n",
      "Done !\n",
      "animation done\n",
      "err converged 0.009544940807335573\n",
      "Done !\n",
      "animation done\n",
      "err converged 1.505268481562574e-08\n",
      "Done !\n",
      "animation done\n",
      "over t :  1.0000000000000004\n",
      "Done !\n",
      "animation done\n",
      "over t :  1.0000000000000004\n",
      "Done !\n",
      "animation done\n",
      "err converged 0.047624251322409654\n",
      "Done !\n",
      "animation done\n",
      "over t :  1.0000000000000004\n",
      "Done !\n",
      "animation done\n"
     ]
    }
   ],
   "source": [
    "T_BE = np.eye(4) # teaching this point\n",
    "\n",
    "q0 = np.array([180, 30, 20, 0, 90, 0]) * DEG2RAD\n",
    "\n",
    "for key, T_BF in all_edges.items():\n",
    "    for T in T_BF:\n",
    "        T_BE = robot.fk_aRbt(q0)\n",
    "        xs = tr2pose(T_BE)\n",
    "\n",
    "        xd = tr2pose(T) # 주의\n",
    "        qd0 = robot.aRbt.get_ik(T, src_type = TFORM, eulType = XYZ, tn = 0, curJnt = q0)\n",
    "\n",
    "        \"\"\"\n",
    "        move robot\n",
    "        \"\"\"\n",
    "        tn = 0\n",
    "        Q, _QD, _X, _SRC = motion_conv(robot.aRbt, tn, q0, xs, qd0, xd, t0 = 0.0, t1 = 1.0, dt = 0.02, lam_e = 1e-2)\n",
    "        # Q, _QD, _X, _SRC = motion_jmov_q(robot.aRbt, tn, q0,  qd0, t0 = 0.0, t1 = 1.0, dt = 0.01)\n",
    "        qblist = np.zeros_like(Q)\n",
    "        thetalist = Q\n",
    "        sleep = 0.0001\n",
    "        # sleep = 0\n",
    "        robot.animate(qblist, thetalist, sleep = sleep)\n",
    "\n",
    "        q0 = qd0"
   ]
  }
 ],
 "metadata": {
  "kernelspec": {
   "display_name": "cnc",
   "language": "python",
   "name": "cnc"
  },
  "language_info": {
   "codemirror_mode": {
    "name": "ipython",
    "version": 3
   },
   "file_extension": ".py",
   "mimetype": "text/x-python",
   "name": "python",
   "nbconvert_exporter": "python",
   "pygments_lexer": "ipython3",
   "version": "3.9.13"
  },
  "orig_nbformat": 4
 },
 "nbformat": 4,
 "nbformat_minor": 2
}
